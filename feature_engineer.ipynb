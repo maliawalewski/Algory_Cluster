{
 "cells": [
  {
   "cell_type": "code",
   "execution_count": 1,
   "metadata": {},
   "outputs": [],
   "source": [
    "import pandas as pd \n",
    "import numpy as np\n",
    "from sklearn.preprocessing import StandardScaler\n",
    "\n",
    "df = pd.read_csv('data/21-25.csv')"
   ]
  },
  {
   "cell_type": "code",
   "execution_count": 2,
   "metadata": {},
   "outputs": [
    {
     "name": "stdout",
     "output_type": "stream",
     "text": [
      "Execution time: 0.2745630741119385 seconds\n"
     ]
    }
   ],
   "source": [
    "import time\n",
    "from getData import get_stock_data, sp_list\n",
    "\n",
    "start_time = time.time()\n",
    "data = get_stock_data('AAPL', '2021-01-01', '2025-01-01')\n",
    "end_time = time.time()\n",
    "\n",
    "execution_time = end_time - start_time\n",
    "print(f\"Execution time: {execution_time} seconds\")\n"
   ]
  },
  {
   "cell_type": "code",
   "execution_count": 3,
   "metadata": {},
   "outputs": [],
   "source": [
    "import getData\n",
    "data = getData.get_stock_data('AAPL', '2021-01-01', '2025-01-01')"
   ]
  },
  {
   "cell_type": "code",
   "execution_count": 4,
   "metadata": {},
   "outputs": [],
   "source": [
    "def get_df(symbol):\n",
    "    data = getData.get_stock_data(symbol, '2021-01-01', '2025-01-01')\n",
    "    return pd.DataFrame(data)\n",
    "\n"
   ]
  },
  {
   "cell_type": "code",
   "execution_count": 5,
   "metadata": {},
   "outputs": [],
   "source": [
    "df_dict = {symbol: get_df(symbol) for symbol in sp_list[:50]}"
   ]
  },
  {
   "cell_type": "code",
   "execution_count": 6,
   "metadata": {},
   "outputs": [],
   "source": [
    "def calculate_std_dev(df, N):\n",
    "    \"\"\"\n",
    "    Calculate the standard deviation of daily returns over the past N days.\n",
    "    \"\"\"\n",
    "\n",
    "    df['daily_return'] = df['close'].pct_change()\n",
    "\n",
    "    std_dev = df['daily_return'].rolling(window=N).std().iloc[-1]\n",
    "\n",
    "    return std_dev"
   ]
  },
  {
   "cell_type": "code",
   "execution_count": 7,
   "metadata": {},
   "outputs": [],
   "source": [
    "def log_transform_close(df):\n",
    "    log_returns = np.log(df['close'] / df['close'].shift(1))\n",
    "    df['log_return'] = log_returns\n",
    "    return df"
   ]
  },
  {
   "cell_type": "code",
   "execution_count": 8,
   "metadata": {},
   "outputs": [],
   "source": [
    "def calculate_moving_average(df, indicator, N):\n",
    "    \"\"\"\n",
    "    Calculate the N-day moving average of indicator in the dataframe.\n",
    "    \"\"\"\n",
    "    moving_average = df[indicator].rolling(window=N).mean().iloc[-1]\n",
    "    return moving_average"
   ]
  },
  {
   "cell_type": "code",
   "execution_count": 9,
   "metadata": {},
   "outputs": [
    {
     "ename": "KeyError",
     "evalue": "'AAPL'",
     "output_type": "error",
     "traceback": [
      "\u001b[0;31m---------------------------------------------------------------------------\u001b[0m",
      "\u001b[0;31mKeyError\u001b[0m                                  Traceback (most recent call last)",
      "Cell \u001b[0;32mIn[9], line 1\u001b[0m\n\u001b[0;32m----> 1\u001b[0m sub_df \u001b[38;5;241m=\u001b[39m \u001b[43mdf_dict\u001b[49m\u001b[43m[\u001b[49m\u001b[38;5;124;43m'\u001b[39;49m\u001b[38;5;124;43mAAPL\u001b[39;49m\u001b[38;5;124;43m'\u001b[39;49m\u001b[43m]\u001b[49m\n",
      "\u001b[0;31mKeyError\u001b[0m: 'AAPL'"
     ]
    }
   ],
   "source": [
    "sub_df = df_dict['AAPL']"
   ]
  },
  {
   "cell_type": "code",
   "execution_count": null,
   "metadata": {
    "vscode": {
     "languageId": "ruby"
    }
   },
   "outputs": [],
   "source": [
    "def calculate_slope_pe_movement(symbol, df):\n",
    "    scaler = StandardScaler()\n",
    "    sub_df = df.loc[df['symbol'] == symbol].copy()\n",
    "    \n",
    "    # scale PE ratio\n",
    "    sub_df.loc[:, 'pe_scaled'] = scaler.fit_transform(sub_df['priceEarningsRatio'].values.reshape(-1, 1))\n",
    "    \n",
    "    # create a dummy x range for corresponding PE\n",
    "    sub_df.loc[:, 'x_range'] = np.linspace(0, len(sub_df) - 1, len(sub_df))\n",
    "    sub_df = sub_df[['x_range', 'pe_scaled']]\n",
    "\n",
    "    # calculate slope of PE ratio movement\n",
    "    slope = np.polyfit(sub_df['x_range'], sub_df['pe_scaled'].values.flatten(), 1)[0]\n",
    "    \n",
    "    return slope"
   ]
  },
  {
   "cell_type": "code",
   "execution_count": null,
   "metadata": {},
   "outputs": [],
   "source": [
    "columns_to_keep = [\n",
    "    'symbol', 'calendarYear', 'period', \n",
    "    'currentRatio', 'quickRatio', \n",
    "    'returnOnEquity', 'returnOnAssets', 'netProfitMargin', \n",
    "    'priceEarningsRatio', 'priceBookValueRatio', 'priceToSalesRatio', \n",
    "    'freeCashFlowPerShare', 'operatingCashFlowPerShare', 'cashFlowToDebtRatio', \n",
    "    'debtEquityRatio', 'longTermDebtToCapitalization', \n",
    "    'assetTurnover', 'inventoryTurnover'\n",
    "]\n",
    "\n",
    "existing_columns = [col for col in columns_to_keep if col in df.columns]\n",
    "\n",
    "filtered_df = df[existing_columns]"
   ]
  },
  {
   "cell_type": "code",
   "execution_count": null,
   "metadata": {
    "vscode": {
     "languageId": "ruby"
    }
   },
   "outputs": [],
   "source": [
    "def calculate_column_slope(column, sub_df):\n",
    "    scaler = StandardScaler()\n",
    "    \n",
    "    # scale column\n",
    "    sub_df.loc[:, 'var_scaled'] = scaler.fit_transform(sub_df[column].values.reshape(-1, 1))\n",
    "    \n",
    "    # create a dummy x range for corresponding PE\n",
    "    sub_df.loc[:, 'x_range'] = np.linspace(0, len(sub_df) - 1, len(sub_df))\n",
    "    sub_df = sub_df[['x_range', 'var_scaled']]\n",
    "\n",
    "    # calculate slope of PE ratio movement\n",
    "    slope = np.polyfit(sub_df['x_range'], sub_df['pe_scaled'].values.flatten(), 1)[0]\n",
    "    \n",
    "    return slope, moving_average\n",
    "\n",
    "def ma_slope_column(sub_df, column):\n",
    "    scaler = StandardScaler()\n",
    "    moving_average = sub_df[column].rolling(window=len(sub_df)).mean().iloc[-1] # not sure if this is calculating in the right temporal direction\n",
    "\n",
    "    # standardize column values\n",
    "    standardized_values = scaler.fit_transform(sub_df[column].values.reshape(-1, 1)).flatten()\n",
    "    \n",
    "    # calculate slope of the line of best fit\n",
    "    x_range = np.arange(len(standardized_values))\n",
    "    slope = np.polyfit(x_range, standardized_values, 1)[0]\n",
    "        \n",
    "    return moving_average, slope\n",
    "\n",
    "columns_to_analyze = [\n",
    "    'currentRatio', 'quickRatio', \n",
    "    'returnOnEquity', 'returnOnAssets', 'netProfitMargin', \n",
    "    'priceEarningsRatio', 'priceBookValueRatio', 'priceToSalesRatio', \n",
    "    'freeCashFlowPerShare', 'operatingCashFlowPerShare', 'cashFlowToDebtRatio', \n",
    "    'debtEquityRatio', 'longTermDebtToCapitalization', \n",
    "    'assetTurnover', 'inventoryTurnover'\n",
    "]\n",
    "\n",
    "# want to iterate through symbols and calculate moving average and direction of movement for each column -- MOVING AVERAGE SHOULD NOT BE STANDARDIZED, only using the standardization to calculate slope\n",
    "# final df should contain that, plus the moving average of close prices, plus volume & other good stuff\n",
    "# also maybe standard deviation of all of these values"
   ]
  },
  {
   "cell_type": "code",
   "execution_count": null,
   "metadata": {
    "vscode": {
     "languageId": "ruby"
    }
   },
   "outputs": [],
   "source": [
    "data = {}\n",
    "\n",
    "for symbol in df['symbol'].unique():\n",
    "    sub_df = df.loc[df['symbol'] == symbol].copy()\n",
    "    \n",
    "    column_data = {}\n",
    "    for column in columns_to_analyze:\n",
    "        ma, slope = ma_slope_column(sub_df, column)\n",
    "        column_data[f'{column}_ma'] = ma\n",
    "        column_data[f'{column}_slope'] = slope\n",
    "\n",
    "    volatility_90 = calculate_std_dev(sub_df, 90) \n",
    "\n",
    "    sub_df_dict = df_dict[symbol]\n",
    "\n",
    "    close_ma_30 = calculate_moving_average(sub_df_dict, 'close', 30)\n",
    "    close_ma_90 = calculate_moving_average(sub_df_dict, 'close', 90)\n",
    "    close_ma_200 = calculate_moving_average(sub_df_dict, 'close', 200)\n",
    "\n",
    "    volume_ma_30 = calculate_moving_average(sub_df_dict, 'volume', 30)\n",
    "    volume_ma_90 = calculate_moving_average(sub_df_dict, 'volume', 90)\n",
    "    volume_ma_200 = calculate_moving_average(sub_df_dict, 'volume', 200)\n",
    "\n",
    "    data[symbol] = {\n",
    "        volatility_90: volatility_90,\n",
    "        'close_ma_30': close_ma_30,\n",
    "        'close_ma_90': close_ma_90,\n",
    "        'close_ma_200': close_ma_200,\n",
    "        'volume_ma_30': volume_ma_30,\n",
    "        'volume_ma_90': volume_ma_90,\n",
    "        'volume_ma_200': volume_ma_200,\n",
    "        **column_data\n",
    "    }   \n",
    "    "
   ]
  },
  {
   "cell_type": "code",
   "execution_count": null,
   "metadata": {
    "vscode": {
     "languageId": "ruby"
    }
   },
   "outputs": [],
   "source": [
    "finaldf = pd.DataFrame(data).T\n",
    "finaldf.dropna(axis=1, how='all', inplace=True)\n",
    "\n",
    "finaldf.ffill(inplace=True) # forward fill NA\n",
    "\n",
    "finaldf.to_csv('finaldf.csv')"
   ]
  }
 ],
 "metadata": {
  "kernelspec": {
   "display_name": "base",
   "language": "python",
   "name": "python3"
  },
  "language_info": {
   "codemirror_mode": {
    "name": "ipython",
    "version": 3
   },
   "file_extension": ".py",
   "mimetype": "text/x-python",
   "name": "python",
   "nbconvert_exporter": "python",
   "pygments_lexer": "ipython3",
   "version": "3.9.13"
  }
 },
 "nbformat": 4,
 "nbformat_minor": 2
}
