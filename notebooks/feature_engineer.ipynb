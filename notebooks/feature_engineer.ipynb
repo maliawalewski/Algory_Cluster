{
 "cells": [
  {
   "cell_type": "code",
   "execution_count": 41,
   "metadata": {},
   "outputs": [],
   "source": [
    "import pandas as pd \n",
    "import numpy as np\n",
    "from sklearn.preprocessing import StandardScaler\n",
    "\n",
    "df = pd.read_csv('../stock_data_21_25.csv')"
   ]
  },
  {
   "cell_type": "code",
   "execution_count": 10,
   "metadata": {},
   "outputs": [
    {
     "name": "stdout",
     "output_type": "stream",
     "text": [
      "Execution time: 0.32764506340026855 seconds\n"
     ]
    }
   ],
   "source": [
    "import time\n",
    "from getData import get_stock_data, sp_list\n",
    "\n",
    "start_time = time.time()\n",
    "data = get_stock_data('AAPL', '2021-01-01', '2025-01-01')\n",
    "end_time = time.time()\n",
    "\n",
    "execution_time = end_time - start_time\n",
    "print(f\"Execution time: {execution_time} seconds\")\n"
   ]
  },
  {
   "cell_type": "code",
   "execution_count": 11,
   "metadata": {},
   "outputs": [],
   "source": [
    "def get_df(symbol):\n",
    "    data = get_stock_data(symbol, '2021-01-01', '2025-01-01')\n",
    "    return pd.DataFrame(data)\n",
    "\n",
    "df_dict = {symbol: get_df(symbol) for symbol in sp_list}"
   ]
  },
  {
   "cell_type": "code",
   "execution_count": 16,
   "metadata": {},
   "outputs": [],
   "source": [
    "def calculate_std_dev(df, N):\n",
    "    \"\"\"\n",
    "    Calculate the standard deviation of daily returns over the past N days.\n",
    "    \"\"\"\n",
    "\n",
    "    df['daily_return'] = df['close'].pct_change()\n",
    "\n",
    "    std_dev = df['daily_return'].rolling(window=N).std().iloc[-1]\n",
    "\n",
    "    return std_dev"
   ]
  },
  {
   "cell_type": "code",
   "execution_count": 26,
   "metadata": {},
   "outputs": [],
   "source": [
    "def log_transform_close(df):\n",
    "    log_returns = np.log(df['close'] / df['close'].shift(1))\n",
    "    df['log_return'] = log_returns\n",
    "    return df\n",
    "\n",
    "for symbol, df in df_dict.items():\n",
    "    df_dict[symbol] = log_transform_close(df)"
   ]
  },
  {
   "cell_type": "code",
   "execution_count": 28,
   "metadata": {},
   "outputs": [],
   "source": [
    "def calculate_moving_average(df, N):\n",
    "    \"\"\"\n",
    "    Calculate the N-day moving average of the 'close' prices in the dataframe.\n",
    "    \"\"\"\n",
    "    moving_average = df['close'].rolling(window=N).mean()\n",
    "    return moving_average"
   ]
  },
  {
   "cell_type": "code",
   "execution_count": 71,
   "metadata": {
    "vscode": {
     "languageId": "ruby"
    }
   },
   "outputs": [],
   "source": [
    "def calculate_slope_pe_movement(symbol, df):\n",
    "    scaler = StandardScaler()\n",
    "    sub_df = df.loc[df['symbol'] == symbol].copy()\n",
    "    \n",
    "    # scale PE ratio\n",
    "    sub_df.loc[:, 'pe_scaled'] = scaler.fit_transform(sub_df['priceEarningsRatio'].values.reshape(-1, 1))\n",
    "    \n",
    "    # create a dummy x range for corresponding PE\n",
    "    sub_df.loc[:, 'x_range'] = np.linspace(0, len(sub_df) - 1, len(sub_df))\n",
    "    sub_df = sub_df[['x_range', 'pe_scaled']]\n",
    "\n",
    "    # calculate slope of PE ratio movement\n",
    "    slope = np.polyfit(sub_df['x_range'], sub_df['pe_scaled'].values.flatten(), 1)[0]\n",
    "    \n",
    "    return slope"
   ]
  },
  {
   "cell_type": "code",
   "execution_count": 86,
   "metadata": {},
   "outputs": [],
   "source": [
    "columns_to_keep = [\n",
    "    'symbol', 'calendarYear', 'period', \n",
    "    'currentRatio', 'quickRatio', \n",
    "    'returnOnEquity', 'returnOnAssets', 'netProfitMargin', \n",
    "    'priceEarningsRatio', 'priceBookValueRatio', 'priceToSalesRatio', \n",
    "    'freeCashFlowPerShare', 'operatingCashFlowPerShare', 'cashFlowToDebtRatio', \n",
    "    'debtEquityRatio', 'longTermDebtToCapitalization', \n",
    "    'assetTurnover', 'inventoryTurnover'\n",
    "]\n",
    "\n",
    "existing_columns = [col for col in columns_to_keep if col in df.columns]\n",
    "\n",
    "filtered_df = df[existing_columns]"
   ]
  },
  {
   "cell_type": "code",
   "execution_count": null,
   "metadata": {
    "vscode": {
     "languageId": "ruby"
    }
   },
   "outputs": [],
   "source": [
    "def calculate_column_slope(column, sub_df):\n",
    "    scaler = StandardScaler()\n",
    "    \n",
    "    # scale column\n",
    "    sub_df.loc[:, 'var_scaled'] = scaler.fit_transform(sub_df[column].values.reshape(-1, 1))\n",
    "    \n",
    "    # create a dummy x range for corresponding PE\n",
    "    sub_df.loc[:, 'x_range'] = np.linspace(0, len(sub_df) - 1, len(sub_df))\n",
    "    sub_df = sub_df[['x_range', 'var_scaled']]\n",
    "\n",
    "    # calculate slope of PE ratio movement\n",
    "    slope = np.polyfit(sub_df['x_range'], sub_df['pe_scaled'].values.flatten(), 1)[0]\n",
    "    \n",
    "    return slope\n",
    "\n",
    "def ma_slope_columns(sub_df, columns):\n",
    "    result = pd.DataFrame(index=df.index)\n",
    "    scaler = StandardScaler()\n",
    "    \n",
    "    for column in columns:\n",
    "        # Calculate moving average for all available elements\n",
    "        moving_average = sub_df[column].rolling(window=len(sub_df)).mean()\n",
    "        \n",
    "        # Standardize the column values\n",
    "        standardized_values = scaler.fit_transform(df[column].values.reshape(-1, 1)).flatten()\n",
    "        \n",
    "        # Calculate the slope of the line of best fit\n",
    "        x_range = np.arange(len(standardized_values))\n",
    "        slope = np.polyfit(x_range, standardized_values, 1)[0]\n",
    "        \n",
    "        result[f'{column}_slope'] = slope\n",
    "    \n",
    "    return result\n",
    "\n",
    "columns_to_analyze = [\n",
    "    'currentRatio', 'quickRatio', \n",
    "    'returnOnEquity', 'returnOnAssets', 'netProfitMargin', \n",
    "    'priceEarningsRatio', 'priceBookValueRatio', 'priceToSalesRatio', \n",
    "    'freeCashFlowPerShare', 'operatingCashFlowPerShare', 'cashFlowToDebtRatio', \n",
    "    'debtEquityRatio', 'longTermDebtToCapitalization', \n",
    "    'assetTurnover', 'inventoryTurnover'\n",
    "]\n",
    "\n",
    "# want to iterate through symbols and calculate moving average and direction of movement for each column -- MOVING AVERAGE SHOULD NOT BE STANDARDIZED, only using the standardization to calculate slope\n",
    "# final df should contain that, plus the moving average of close prices, plus volume & other good stuff\n",
    "# also maybe standard deviation of all of these values"
   ]
  }
 ],
 "metadata": {
  "kernelspec": {
   "display_name": "base",
   "language": "python",
   "name": "python3"
  },
  "language_info": {
   "codemirror_mode": {
    "name": "ipython",
    "version": 3
   },
   "file_extension": ".py",
   "mimetype": "text/x-python",
   "name": "python",
   "nbconvert_exporter": "python",
   "pygments_lexer": "ipython3",
   "version": "3.9.13"
  }
 },
 "nbformat": 4,
 "nbformat_minor": 2
}
